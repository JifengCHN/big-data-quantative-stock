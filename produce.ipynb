{
 "cells": [
  {
   "cell_type": "code",
   "execution_count": null,
   "metadata": {},
   "outputs": [],
   "source": [
    "from data_mocker.mocker import Mocker\n",
    "import json\n",
    "from kafka_component.producer import MockProducer, TweetListener, TickProducer"
   ]
  },
  {
   "cell_type": "markdown",
   "metadata": {},
   "source": [
    "## 推特消息生产者"
   ]
  },
  {
   "cell_type": "code",
   "execution_count": null,
   "metadata": {},
   "outputs": [],
   "source": [
    "# 生成后保存到本地\n",
    "\n",
    "mocker = Mocker()\n",
    "search_term = \"平安银行\"\n",
    "tweets_json = mocker.generate_tweets(search_term, n=5)\n",
    "\n",
    "with open(\"tweets_output.json\", \"w\", encoding=\"utf-8\") as f:\n",
    "    json.dump(tweets_json, f, ensure_ascii=False, indent=4)\n",
    "\n",
    "print(\"Tweets have been saved to 'tweets_output.json'\")"
   ]
  },
  {
   "cell_type": "code",
   "execution_count": null,
   "metadata": {},
   "outputs": [],
   "source": [
    "# 推特消息推送到Kafka\n",
    "\n",
    "topic_name = \"twitter\"\n",
    "search_term = \"平安银行\"\n",
    "\n",
    "mocker = Mocker()\n",
    "producer = MockProducer()\n",
    "listener = TweetListener(mocker, producer, topic_name)\n",
    "listener.start_processing_tweets(search_term, n=10)"
   ]
  },
  {
   "cell_type": "markdown",
   "metadata": {},
   "source": [
    "## 行情数据生产者"
   ]
  },
  {
   "cell_type": "code",
   "execution_count": null,
   "metadata": {},
   "outputs": [],
   "source": [
    "producer = TickProducer()\n",
    "producer.send('600036.SH')"
   ]
  },
  {
   "cell_type": "markdown",
   "metadata": {},
   "source": []
  }
 ],
 "metadata": {
  "kernelspec": {
   "display_name": "Python 3",
   "language": "python",
   "name": "python3"
  },
  "language_info": {
   "codemirror_mode": {
    "name": "ipython",
    "version": 3
   },
   "file_extension": ".py",
   "mimetype": "text/x-python",
   "name": "python",
   "nbconvert_exporter": "python",
   "pygments_lexer": "ipython3",
   "version": "3.9.13"
  }
 },
 "nbformat": 4,
 "nbformat_minor": 2
}
