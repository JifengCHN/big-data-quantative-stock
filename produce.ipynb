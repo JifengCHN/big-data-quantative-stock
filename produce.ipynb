{
 "cells": [
  {
   "cell_type": "code",
   "execution_count": 1,
   "metadata": {},
   "outputs": [],
   "source": [
    "from data_mocker.mocker import Mocker\n",
    "import json\n",
    "from kafka_component.producer import MockProducer, TweetListener, TickProducer"
   ]
  },
  {
   "cell_type": "markdown",
   "metadata": {},
   "source": [
    "## 推特消息生产者"
   ]
  },
  {
   "cell_type": "code",
   "execution_count": null,
   "metadata": {},
   "outputs": [],
   "source": [
    "# 生成后保存到本地\n",
    "\n",
    "mocker = Mocker()\n",
    "search_term = \"平安银行\"\n",
    "tweets_json = mocker.generate_tweets(search_term, n=5)\n",
    "\n",
    "with open(\"tweets_output.json\", \"w\", encoding=\"utf-8\") as f:\n",
    "    json.dump(tweets_json, f, ensure_ascii=False, indent=4)\n",
    "\n",
    "print(\"Tweets have been saved to 'tweets_output.json'\")"
   ]
  },
  {
   "cell_type": "code",
   "execution_count": 2,
   "metadata": {},
   "outputs": [
    {
     "name": "stderr",
     "output_type": "stream",
     "text": [
      "\u001b[32m2024-05-28 17:18:21.798\u001b[0m | \u001b[1mINFO    \u001b[0m | \u001b[36mkafka_component.producer\u001b[0m:\u001b[36msend\u001b[0m:\u001b[36m39\u001b[0m - \u001b[1mSending to twitter: b'{\"message\": \"Just bought some shares of Ping An Bank feeling confident in their stable performance! #investing #PingAnBank\"}'\u001b[0m\n",
      "\u001b[32m2024-05-28 17:18:22.806\u001b[0m | \u001b[1mINFO    \u001b[0m | \u001b[36mkafka_component.producer\u001b[0m:\u001b[36msend\u001b[0m:\u001b[36m39\u001b[0m - \u001b[1mSending to twitter: b'{\"message\": \"Disappointed with the recent drop in Ping An Bank\\'s stock price considering selling off my position. #stocks #PingAnBank\"}'\u001b[0m\n",
      "\u001b[32m2024-05-28 17:18:25.814\u001b[0m | \u001b[1mINFO    \u001b[0m | \u001b[36mkafka_component.producer\u001b[0m:\u001b[36msend\u001b[0m:\u001b[36m39\u001b[0m - \u001b[1mSending to twitter: b'{\"message\": \"Ping An Bank\\'s financial report exceeded expectations feeling optimistic about their future growth! \\\\ud83d\\\\udcc8 #PingAnBank #investment\"}'\u001b[0m\n",
      "\u001b[32m2024-05-28 17:18:27.821\u001b[0m | \u001b[1mINFO    \u001b[0m | \u001b[36mkafka_component.producer\u001b[0m:\u001b[36msend\u001b[0m:\u001b[36m39\u001b[0m - \u001b[1mSending to twitter: b'{\"message\": \"The consistent dividends from Ping An Bank are a great addition to my portfolio love this stock! \\\\ud83d\\\\udcb0 #dividends #PingAnBank\"}'\u001b[0m\n",
      "\u001b[32m2024-05-28 17:18:29.828\u001b[0m | \u001b[1mINFO    \u001b[0m | \u001b[36mkafka_component.producer\u001b[0m:\u001b[36msend\u001b[0m:\u001b[36m39\u001b[0m - \u001b[1mSending to twitter: b'{\"message\": \"I\\'m a long-term believer in Ping An Bank\\'s potential staying patient through the market fluctuations. #faith #PingAnBank #stockmarket\"}'\u001b[0m\n"
     ]
    }
   ],
   "source": [
    "# 推特消息推送到Kafka\n",
    "\n",
    "topic_name = \"twitter\"\n",
    "search_term = \"平安银行\"\n",
    "\n",
    "mocker = Mocker()\n",
    "producer = MockProducer()\n",
    "listener = TweetListener(mocker, producer, topic_name)\n",
    "listener.start_processing_tweets(search_term, n=5)"
   ]
  },
  {
   "cell_type": "markdown",
   "metadata": {},
   "source": [
    "## 行情数据生产者"
   ]
  },
  {
   "cell_type": "code",
   "execution_count": 3,
   "metadata": {},
   "outputs": [
    {
     "name": "stderr",
     "output_type": "stream",
     "text": [
      "Processing timestamps:   0%|          | 74/30238 [00:17<1:59:04,  4.22it/s]\n"
     ]
    },
    {
     "ename": "KeyboardInterrupt",
     "evalue": "",
     "output_type": "error",
     "traceback": [
      "\u001b[0;31m---------------------------------------------------------------------------\u001b[0m",
      "\u001b[0;31mKeyboardInterrupt\u001b[0m                         Traceback (most recent call last)",
      "Cell \u001b[0;32mIn[3], line 2\u001b[0m\n\u001b[1;32m      1\u001b[0m producer \u001b[38;5;241m=\u001b[39m TickProducer()\n\u001b[0;32m----> 2\u001b[0m \u001b[43mproducer\u001b[49m\u001b[38;5;241;43m.\u001b[39;49m\u001b[43msend\u001b[49m\u001b[43m(\u001b[49m\u001b[38;5;124;43m'\u001b[39;49m\u001b[38;5;124;43mstock\u001b[39;49m\u001b[38;5;124;43m'\u001b[39;49m\u001b[43m)\u001b[49m\n",
      "File \u001b[0;32m~/Documents/project/big-data-quantative-stock/kafka_component/producer.py:63\u001b[0m, in \u001b[0;36mTickProducer.send\u001b[0;34m(self, topic)\u001b[0m\n\u001b[1;32m     59\u001b[0m records \u001b[38;5;241m=\u001b[39m collection\u001b[38;5;241m.\u001b[39mfind(query)\n\u001b[1;32m     61\u001b[0m \u001b[38;5;28;01mfor\u001b[39;00m record \u001b[38;5;129;01min\u001b[39;00m records:\n\u001b[1;32m     62\u001b[0m     \u001b[38;5;66;03m# 发送数据到Kafka的特定主题\u001b[39;00m\n\u001b[0;32m---> 63\u001b[0m     \u001b[38;5;28;43mself\u001b[39;49m\u001b[38;5;241;43m.\u001b[39;49m\u001b[43mproducer\u001b[49m\u001b[38;5;241;43m.\u001b[39;49m\u001b[43msend\u001b[49m\u001b[43m(\u001b[49m\u001b[43mtopic\u001b[49m\u001b[43m,\u001b[49m\u001b[43m \u001b[49m\u001b[43mrecord\u001b[49m\u001b[43m)\u001b[49m\n\u001b[1;32m     64\u001b[0m     \u001b[38;5;28mself\u001b[39m\u001b[38;5;241m.\u001b[39mproducer\u001b[38;5;241m.\u001b[39mflush()\n",
      "File \u001b[0;32m/opt/homebrew/lib/python3.11/site-packages/kafka/producer/kafka.py:538\u001b[0m, in \u001b[0;36mKafkaProducer.send\u001b[0;34m(self, topic, value, key, headers, partition, timestamp_ms)\u001b[0m\n\u001b[1;32m    534\u001b[0m     \u001b[38;5;28;01melse\u001b[39;00m:\n\u001b[1;32m    535\u001b[0m         \u001b[38;5;28;01mreturn\u001b[39;00m LegacyRecordBatchBuilder\u001b[38;5;241m.\u001b[39mestimate_size_in_bytes(\n\u001b[1;32m    536\u001b[0m             magic, \u001b[38;5;28mself\u001b[39m\u001b[38;5;241m.\u001b[39mconfig[\u001b[38;5;124m'\u001b[39m\u001b[38;5;124mcompression_type\u001b[39m\u001b[38;5;124m'\u001b[39m], key, value)\n\u001b[0;32m--> 538\u001b[0m \u001b[38;5;28;01mdef\u001b[39;00m \u001b[38;5;21msend\u001b[39m(\u001b[38;5;28mself\u001b[39m, topic, value\u001b[38;5;241m=\u001b[39m\u001b[38;5;28;01mNone\u001b[39;00m, key\u001b[38;5;241m=\u001b[39m\u001b[38;5;28;01mNone\u001b[39;00m, headers\u001b[38;5;241m=\u001b[39m\u001b[38;5;28;01mNone\u001b[39;00m, partition\u001b[38;5;241m=\u001b[39m\u001b[38;5;28;01mNone\u001b[39;00m, timestamp_ms\u001b[38;5;241m=\u001b[39m\u001b[38;5;28;01mNone\u001b[39;00m):\n\u001b[1;32m    539\u001b[0m \u001b[38;5;250m    \u001b[39m\u001b[38;5;124;03m\"\"\"Publish a message to a topic.\u001b[39;00m\n\u001b[1;32m    540\u001b[0m \n\u001b[1;32m    541\u001b[0m \u001b[38;5;124;03m    Arguments:\u001b[39;00m\n\u001b[0;32m   (...)\u001b[0m\n\u001b[1;32m    569\u001b[0m \u001b[38;5;124;03m            to obtain memory buffer prior to configured max_block_ms\u001b[39;00m\n\u001b[1;32m    570\u001b[0m \u001b[38;5;124;03m    \"\"\"\u001b[39;00m\n\u001b[1;32m    571\u001b[0m     \u001b[38;5;28;01massert\u001b[39;00m value \u001b[38;5;129;01mis\u001b[39;00m \u001b[38;5;129;01mnot\u001b[39;00m \u001b[38;5;28;01mNone\u001b[39;00m \u001b[38;5;129;01mor\u001b[39;00m \u001b[38;5;28mself\u001b[39m\u001b[38;5;241m.\u001b[39mconfig[\u001b[38;5;124m'\u001b[39m\u001b[38;5;124mapi_version\u001b[39m\u001b[38;5;124m'\u001b[39m] \u001b[38;5;241m>\u001b[39m\u001b[38;5;241m=\u001b[39m (\u001b[38;5;241m0\u001b[39m, \u001b[38;5;241m8\u001b[39m, \u001b[38;5;241m1\u001b[39m), (\n\u001b[1;32m    572\u001b[0m         \u001b[38;5;124m'\u001b[39m\u001b[38;5;124mNull messages require kafka >= 0.8.1\u001b[39m\u001b[38;5;124m'\u001b[39m)\n",
      "\u001b[0;31mKeyboardInterrupt\u001b[0m: "
     ]
    }
   ],
   "source": [
    "producer = TickProducer()\n",
    "producer.send('stock')"
   ]
  },
  {
   "cell_type": "markdown",
   "metadata": {},
   "source": []
  }
 ],
 "metadata": {
  "kernelspec": {
   "display_name": "Python 3",
   "language": "python",
   "name": "python3"
  },
  "language_info": {
   "codemirror_mode": {
    "name": "ipython",
    "version": 3
   },
   "file_extension": ".py",
   "mimetype": "text/x-python",
   "name": "python",
   "nbconvert_exporter": "python",
   "pygments_lexer": "ipython3",
   "version": "3.11.9"
  }
 },
 "nbformat": 4,
 "nbformat_minor": 2
}
