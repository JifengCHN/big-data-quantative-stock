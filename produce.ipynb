{
 "cells": [
  {
   "cell_type": "code",
   "execution_count": 1,
   "metadata": {},
   "outputs": [],
   "source": [
    "from data_mocker.mocker import Mocker\n",
    "import json\n",
    "from kafka_component.producer import MockProducer, TweetListener, TickProducer"
   ]
  },
  {
   "cell_type": "markdown",
   "metadata": {},
   "source": [
    "## 推特消息生产者"
   ]
  },
  {
   "cell_type": "code",
   "execution_count": 2,
   "metadata": {},
   "outputs": [
    {
     "name": "stdout",
     "output_type": "stream",
     "text": [
      "Tweets have been saved to 'tweets_output.json'\n"
     ]
    }
   ],
   "source": [
    "# 生成后保存到本地\n",
    "\n",
    "mocker = Mocker()\n",
    "search_term = \"平安银行\"\n",
    "tweets_json = mocker.generate_tweets(search_term, n=5)\n",
    "\n",
    "with open(\"tweets_output.json\", \"w\", encoding=\"utf-8\") as f:\n",
    "    json.dump(tweets_json, f, ensure_ascii=False, indent=4)\n",
    "\n",
    "print(\"Tweets have been saved to 'tweets_output.json'\")"
   ]
  },
  {
   "cell_type": "code",
   "execution_count": 3,
   "metadata": {},
   "outputs": [
    {
     "name": "stderr",
     "output_type": "stream",
     "text": [
      "\u001b[32m2024-05-28 21:32:34.350\u001b[0m | \u001b[1mINFO    \u001b[0m | \u001b[36mkafka_component.producer\u001b[0m:\u001b[36msend\u001b[0m:\u001b[36m39\u001b[0m - \u001b[1mSending to twitter: b'{\"message\": \"Just bought more shares of Ping An Bank today feeling confident in its long-term growth prospects!\"}'\u001b[0m\n",
      "\u001b[32m2024-05-28 21:32:39.354\u001b[0m | \u001b[1mINFO    \u001b[0m | \u001b[36mkafka_component.producer\u001b[0m:\u001b[36msend\u001b[0m:\u001b[36m39\u001b[0m - \u001b[1mSending to twitter: b'{\"message\": \"The stability of Ping An Bank\\'s stock performance is truly impressive a reliable choice for investors.\"}'\u001b[0m\n",
      "\u001b[32m2024-05-28 21:32:43.362\u001b[0m | \u001b[1mINFO    \u001b[0m | \u001b[36mkafka_component.producer\u001b[0m:\u001b[36msend\u001b[0m:\u001b[36m39\u001b[0m - \u001b[1mSending to twitter: b'{\"message\": \"Disappointed by the recent drop in Ping An Bank\\'s stock price considering whether to hold or sell.\"}'\u001b[0m\n",
      "\u001b[32m2024-05-28 21:32:45.369\u001b[0m | \u001b[1mINFO    \u001b[0m | \u001b[36mkafka_component.producer\u001b[0m:\u001b[36msend\u001b[0m:\u001b[36m39\u001b[0m - \u001b[1mSending to twitter: b'{\"message\": \"Ping An Bank\\'s dividend payout never fails to bring me a smile a great source of passive income!\"}'\u001b[0m\n",
      "\u001b[32m2024-05-28 21:32:46.374\u001b[0m | \u001b[1mINFO    \u001b[0m | \u001b[36mkafka_component.producer\u001b[0m:\u001b[36msend\u001b[0m:\u001b[36m39\u001b[0m - \u001b[1mSending to twitter: b'{\"message\": \"Mixed feelings about Ping An Bank\\'s quarterly report - some positive signs but also areas of concern.\"}'\u001b[0m\n",
      "\u001b[32m2024-05-28 21:32:51.381\u001b[0m | \u001b[1mINFO    \u001b[0m | \u001b[36mkafka_component.producer\u001b[0m:\u001b[36msend\u001b[0m:\u001b[36m39\u001b[0m - \u001b[1mSending to twitter: b'{\"message\": \"Considering adding Ping An Bank to my portfolio for diversification seems like a solid investment opportunity.\"}'\u001b[0m\n",
      "\u001b[32m2024-05-28 21:32:56.388\u001b[0m | \u001b[1mINFO    \u001b[0m | \u001b[36mkafka_component.producer\u001b[0m:\u001b[36msend\u001b[0m:\u001b[36m39\u001b[0m - \u001b[1mSending to twitter: b'{\"message\": \"The market turbulence is affecting Ping An Bank\\'s stock but I believe in its resilience to bounce back.\"}'\u001b[0m\n",
      "\u001b[32m2024-05-28 21:33:01.395\u001b[0m | \u001b[1mINFO    \u001b[0m | \u001b[36mkafka_component.producer\u001b[0m:\u001b[36msend\u001b[0m:\u001b[36m39\u001b[0m - \u001b[1mSending to twitter: b'{\"message\": \"Ping An Bank\\'s innovative technology initiatives are positioning it for future success excited for what\\'s ahead!\"}'\u001b[0m\n",
      "\u001b[32m2024-05-28 21:33:02.402\u001b[0m | \u001b[1mINFO    \u001b[0m | \u001b[36mkafka_component.producer\u001b[0m:\u001b[36msend\u001b[0m:\u001b[36m39\u001b[0m - \u001b[1mSending to twitter: b'{\"message\": \"Selling my Ping An Bank shares due to lackluster performance lately need to cut my losses and move on.\"}'\u001b[0m\n",
      "\u001b[32m2024-05-28 21:33:06.410\u001b[0m | \u001b[1mINFO    \u001b[0m | \u001b[36mkafka_component.producer\u001b[0m:\u001b[36msend\u001b[0m:\u001b[36m39\u001b[0m - \u001b[1mSending to twitter: b'{\"message\": \"Feeling conflicted about Ping An Bank\\'s stock right now uncertain whether to hold onto my position or not.\"}'\u001b[0m\n"
     ]
    }
   ],
   "source": [
    "# 推特消息推送到Kafka\n",
    "\n",
    "topic_name = \"twitter\"\n",
    "search_term = \"平安银行\"\n",
    "\n",
    "mocker = Mocker()\n",
    "producer = MockProducer()\n",
    "listener = TweetListener(mocker, producer, topic_name)\n",
    "listener.start_processing_tweets(search_term, n=10)"
   ]
  },
  {
   "cell_type": "markdown",
   "metadata": {},
   "source": [
    "## 行情数据生产者"
   ]
  },
  {
   "cell_type": "code",
   "execution_count": null,
   "metadata": {},
   "outputs": [],
   "source": [
    "producer = TickProducer()\n",
    "producer.send('stock')"
   ]
  },
  {
   "cell_type": "markdown",
   "metadata": {},
   "source": []
  }
 ],
 "metadata": {
  "kernelspec": {
   "display_name": "Python 3",
   "language": "python",
   "name": "python3"
  },
  "language_info": {
   "codemirror_mode": {
    "name": "ipython",
    "version": 3
   },
   "file_extension": ".py",
   "mimetype": "text/x-python",
   "name": "python",
   "nbconvert_exporter": "python",
   "pygments_lexer": "ipython3",
   "version": "3.11.9"
  }
 },
 "nbformat": 4,
 "nbformat_minor": 2
}
