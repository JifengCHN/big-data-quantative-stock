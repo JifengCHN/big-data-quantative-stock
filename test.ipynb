{
 "cells": [
  {
   "cell_type": "code",
   "execution_count": null,
   "metadata": {},
   "outputs": [],
   "source": [
    "from data_mocker.mocker import Mocker\n",
    "import json"
   ]
  },
  {
   "cell_type": "code",
   "execution_count": null,
   "metadata": {},
   "outputs": [],
   "source": [
    "mocker = Mocker()\n",
    "search_term = \"平安银行\"\n",
    "tweets_json = mocker.generate_tweets(search_term, n=5)\n",
    "\n",
    "# Save to file\n",
    "with open(\"tweets_output.json\", \"w\", encoding=\"utf-8\") as f:\n",
    "    json.dump(tweets_json, f, ensure_ascii=False, indent=4)\n",
    "\n",
    "print(\"Tweets have been saved to 'tweets_output.json'\")"
   ]
  },
  {
   "cell_type": "code",
   "execution_count": null,
   "metadata": {},
   "outputs": [],
   "source": [
    "from pymongo import MongoClient\n",
    "from kafka import KafkaProducer\n",
    "from loguru import logger\n",
    "import json\n",
    "import time\n",
    "\n",
    "producer = KafkaProducer(bootstrap_servers='localhost:9092')\n",
    "search_term = 'ChatGPT'\n",
    "topic_name = 'stock'"
   ]
  },
  {
   "cell_type": "code",
   "execution_count": null,
   "metadata": {},
   "outputs": [],
   "source": [
    "from data_mocker.mocker import Mocker\n",
    "from kafka_component.tweet_producer import MockProducer, TweetListener"
   ]
  },
  {
   "cell_type": "code",
   "execution_count": null,
   "metadata": {},
   "outputs": [],
   "source": [
    "topic_name = \"stock\"\n",
    "\n",
    "mocker = Mocker()\n",
    "producer = MockProducer()\n",
    "listener = TweetListener(mocker, producer, topic_name)\n",
    "\n",
    "search_term = \"平安银行\"\n",
    "\n",
    "listener.start_processing_tweets(search_term, n=5)"
   ]
  },
  {
   "cell_type": "code",
   "execution_count": 10,
   "metadata": {},
   "outputs": [
    {
     "name": "stdout",
     "output_type": "stream",
     "text": [
      "Received message: b'{\"message\": \"Just bought more shares of Ping An Bank! The stable performance never fails to impress me. #investment #PingAnBank\"}'\n",
      "Received message: b'{\"message\": \"\\\\\"Just bought some shares of Ping An Bank. Feeling confident that it will bring me good returns in the long run! #investment #bullish\\\\\"\"}'\n",
      "Received message: b'{\"message\": \"\\\\\"Just bought more shares of Ping An Bank their performance has been solid lately! #investing #PingAnBank\\\\\"\"}'\n",
      "Received message: b'{\"message\": \"\\\\\"\\\\u5e73\\\\u5b89\\\\u94f6\\\\u884c\\\\u7684\\\\u5229\\\\u6da6\\\\u589e\\\\u957f\\\\u8ba9\\\\u6211\\\\u611f\\\\u5230\\\\u6ee1\\\\u610f\\\\uff0c\\\\u76f8\\\\u4fe1\\\\u672a\\\\u6765\\\\u4f1a\\\\u6709\\\\u66f4\\\\u597d\\\\u7684\\\\u53d1\\\\u5c55\\\\uff01\\\\ud83d\\\\udcaa\\\\ud83d\\\\udcc8 #\\\\u5e73\\\\u5b89\\\\u94f6\\\\u884c #\\\\u80a1\\\\u7968\\\\u6295\\\\u8d44\\\\\"\"}'\n",
      "Received message: b'{\"message\": \"\\\\\"Disappointed with the recent drop in Ping An Bank\\'s stock price. Should I hold on or sell? \\\\ud83e\\\\udd14\\\\ud83d\\\\ude14 #PingAnBank #stockmarket\\\\\"\"}'\n",
      "Received message: b'{\"message\": \"\\\\\"\\\\u5e73\\\\u5b89\\\\u94f6\\\\u884c\\\\u7684\\\\u80a1\\\\u7968\\\\u4eca\\\\u5929\\\\u8868\\\\u73b0\\\\u4e0d\\\\u4f73\\\\uff0c\\\\u6709\\\\u70b9\\\\u62c5\\\\u5fc3\\\\u672a\\\\u6765\\\\u7684\\\\u8d70\\\\u52bf\\\\u3002\\\\ud83d\\\\ude15\\\\ud83d\\\\udcc9 #\\\\u5e73\\\\u5b89\\\\u94f6\\\\u884c #\\\\u6295\\\\u8d44\\\\\"\"}'\n",
      "Received message: b'{\"message\": \"\\\\\"Ping An Bank\\'s dividend payout exceeded expectations this quarter adding some extra cash to my pocket! \\\\ud83d\\\\udcb0\\\\ud83c\\\\udf89 #PingAnBank #dividends\\\\\"\"}'\n",
      "Received message: b'{\"message\": \"\\\\\"Sold my Ping An Bank shares today the overall market conditions are too uncertain. \\\\ud83d\\\\udcc9\\\\ud83d\\\\ude1e #PingAnBank #trading\\\\\"\"}'\n",
      "Received message: b'{\"message\": \"\\\\\"\\\\u5e73\\\\u5b89\\\\u94f6\\\\u884c\\\\u7684\\\\u80a1\\\\u4ef7\\\\u6301\\\\u7eed\\\\u4e0a\\\\u6da8\\\\uff0c\\\\u8ba9\\\\u6211\\\\u611f\\\\u5230\\\\u6b23\\\\u6170\\\\uff0c\\\\u7ee7\\\\u7eed\\\\u575a\\\\u5b9a\\\\u6301\\\\u6709\\\\uff01\\\\ud83d\\\\ude80\\\\ud83d\\\\udcbc #\\\\u5e73\\\\u5b89\\\\u94f6\\\\u884c #\\\\u80a1\\\\u5e02\\\\\"\"}'\n",
      "Received message: b'{\"message\": \"\\\\\"Feeling uneasy about the recent news regarding Ping An Bank\\'s leadership changes. \\\\ud83e\\\\udd28\\\\ud83d\\\\udd04 #PingAnBank #investing\\\\\"\"}'\n",
      "Received message: b'{\"message\": \"\\\\\"Just received my quarterly dividends from Ping An Bank always a nice bonus! \\\\ud83d\\\\udcb5\\\\ud83c\\\\udf81 #PingAnBank #income\\\\\"\"}'\n",
      "Received message: b'{\"message\": \"\\\\\"Considering increasing my position in Ping An Bank their long-term growth potential looks promising! \\\\ud83d\\\\udcbc\\\\ud83d\\\\udcc8 #PingAnBank #investments\\\\\"\"}'\n",
      "Received message: b'{\"message\": \"\\\\\"\\\\u5e73\\\\u5b89\\\\u94f6\\\\u884c\\\\u7684\\\\u80a1\\\\u7968\\\\u4ef7\\\\u683c\\\\u6301\\\\u7eed\\\\u6ce2\\\\u52a8\\\\uff0c\\\\u8ba9\\\\u6211\\\\u6709\\\\u70b9\\\\u8ff7\\\\u832b\\\\uff0c\\\\u8be5\\\\u600e\\\\u4e48\\\\u64cd\\\\u4f5c\\\\u5462\\\\uff1f\\\\ud83e\\\\udd37\\\\u200d\\\\u2642\\\\ufe0f\\\\ud83d\\\\udcad #\\\\u5e73\\\\u5b89\\\\u94f6\\\\u884c #\\\\u4ea4\\\\u6613\\\\\"\"}'\n",
      "Received message: b'{\"message\": \"\\\\\"Ping An Bank\\'s latest innovation in digital banking is impressive showing their commitment to staying ahead in the industry! \\\\ud83d\\\\udcbb\\\\ud83c\\\\udf1f #PingAnBank #fintech\\\\\"\"}'\n",
      "Received message: b'{\"message\": \"\\\\\"Decided to hold onto my Ping An Bank shares despite market volatility trust in the company\\'s long-term growth potential! \\\\ud83d\\\\udcaa\\\\ud83d\\\\udcca #PingAnBank #hold\\\\\"\"}'\n",
      "Received message: b'{\"message\": \"\\\\\"The recent regulatory issues surrounding Ping An Bank are causing some concern among investors need to monitor closely. \\\\ud83d\\\\udea8\\\\ud83d\\\\udd0d #PingAnBank #regulation\\\\\"\"}'\n",
      "Received message: b'{\"message\": \"\\\\\"\\\\u5e73\\\\u5b89\\\\u94f6\\\\u884c\\\\u7684\\\\u80a1\\\\u4ef7\\\\u7ee7\\\\u7eed\\\\u4e0b\\\\u8dcc\\\\uff0c\\\\u8ba9\\\\u6211\\\\u6709\\\\u4e9b\\\\u7126\\\\u8651\\\\uff0c\\\\u8fd9\\\\u65f6\\\\u5019\\\\u662f\\\\u5272\\\\u8089\\\\u8fd8\\\\u662f\\\\u575a\\\\u6301\\\\u5462\\\\uff1f\\\\ud83d\\\\udcc9\\\\ud83d\\\\ude30 #\\\\u5e73\\\\u5b89\\\\u94f6\\\\u884c #\\\\u6295\\\\u8d44\\\\\"\"}'\n",
      "Received message: b'{\"message\": \"\\\\\"Ping An Bank\\'s latest earnings report exceeded expectations demonstrating their strong financial performance! \\\\ud83d\\\\udcbc\\\\ud83d\\\\udcb0 #PingAnBank #earnings\\\\\"\"}'\n",
      "Received message: b'{\"message\": \"\\\\\"Considering diversifying my portfolio with Ping An Bank shares their stability in the market is appealing. \\\\ud83d\\\\udcca\\\\ud83d\\\\udcbc #PingAnBank #portfolio\\\\\"\"}'\n",
      "Received message: b'{\"message\": \"\\\\\"Just attended Ping An Bank\\'s investor conference feeling optimistic about their future growth strategies! \\\\ud83c\\\\udf10\\\\ud83d\\\\udcc8 #PingAnBank #conference\\\\\"\"}'\n",
      "Received message: b'{\"message\": \"\\\\\"\\\\u5e73\\\\u5b89\\\\u94f6\\\\u884c\\\\u7684\\\\u53d1\\\\u5c55\\\\u524d\\\\u666f\\\\u4ee4\\\\u4eba\\\\u671f\\\\u5f85\\\\uff0c\\\\u7ee7\\\\u7eed\\\\u6301\\\\u6709\\\\u80a1\\\\u7968\\\\uff0c\\\\u76f8\\\\u4fe1\\\\u4f1a\\\\u6709\\\\u66f4\\\\u597d\\\\u7684\\\\u56de\\\\u62a5\\\\uff01\\\\ud83e\\\\udd1d\\\\ud83d\\\\udcb9 #\\\\u5e73\\\\u5b89\\\\u94f6\\\\u884c #\\\\u80a1\\\\u7968\\\\\"\"}'\n",
      "Received message: b'{\"message\": \"\\\\\"Feeling conflicted about whether to buy more Ping An Bank shares at this price point need to analyze the market trends carefully. \\\\ud83d\\\\udcc8\\\\ud83d\\\\udd0d #PingAnBank #analysis\\\\\"\"}'\n"
     ]
    },
    {
     "ename": "KeyboardInterrupt",
     "evalue": "",
     "output_type": "error",
     "traceback": [
      "\u001b[0;31m---------------------------------------------------------------------------\u001b[0m",
      "\u001b[0;31mKeyboardInterrupt\u001b[0m                         Traceback (most recent call last)",
      "Cell \u001b[0;32mIn[10], line 4\u001b[0m\n\u001b[1;32m      1\u001b[0m \u001b[38;5;28;01mfrom\u001b[39;00m \u001b[38;5;21;01mkafka_component\u001b[39;00m\u001b[38;5;21;01m.\u001b[39;00m\u001b[38;5;21;01mtweet_consumer\u001b[39;00m \u001b[38;5;28;01mimport\u001b[39;00m TweetConsumer\n\u001b[1;32m      3\u001b[0m consumer \u001b[38;5;241m=\u001b[39m TweetConsumer(topic_name\u001b[38;5;241m=\u001b[39m\u001b[38;5;124m'\u001b[39m\u001b[38;5;124mstock\u001b[39m\u001b[38;5;124m'\u001b[39m)\n\u001b[0;32m----> 4\u001b[0m \u001b[43mconsumer\u001b[49m\u001b[38;5;241;43m.\u001b[39;49m\u001b[43mconsume\u001b[49m\u001b[43m(\u001b[49m\u001b[43m)\u001b[49m\n",
      "File \u001b[0;32m~/Documents/project/big-data-quantative-stock/kafka_component/tweet_consumer.py:12\u001b[0m, in \u001b[0;36mTweetConsumer.consume\u001b[0;34m(self)\u001b[0m\n\u001b[1;32m     11\u001b[0m \u001b[38;5;28;01mdef\u001b[39;00m \u001b[38;5;21mconsume\u001b[39m(\u001b[38;5;28mself\u001b[39m):\n\u001b[0;32m---> 12\u001b[0m \u001b[43m    \u001b[49m\u001b[38;5;28;43;01mfor\u001b[39;49;00m\u001b[43m \u001b[49m\u001b[43mmessage\u001b[49m\u001b[43m \u001b[49m\u001b[38;5;129;43;01min\u001b[39;49;00m\u001b[43m \u001b[49m\u001b[38;5;28;43mself\u001b[39;49m\u001b[38;5;241;43m.\u001b[39;49m\u001b[43mconsumer\u001b[49m\u001b[43m:\u001b[49m\n\u001b[1;32m     13\u001b[0m \u001b[43m        \u001b[49m\u001b[38;5;28;43mprint\u001b[39;49m\u001b[43m(\u001b[49m\u001b[38;5;124;43mf\u001b[39;49m\u001b[38;5;124;43m\"\u001b[39;49m\u001b[38;5;124;43mReceived message: \u001b[39;49m\u001b[38;5;132;43;01m{\u001b[39;49;00m\u001b[43mmessage\u001b[49m\u001b[38;5;241;43m.\u001b[39;49m\u001b[43mvalue\u001b[49m\u001b[38;5;132;43;01m}\u001b[39;49;00m\u001b[38;5;124;43m\"\u001b[39;49m\u001b[43m)\u001b[49m\n",
      "File \u001b[0;32m/opt/homebrew/lib/python3.11/site-packages/kafka/consumer/group.py:1193\u001b[0m, in \u001b[0;36mKafkaConsumer.__next__\u001b[0;34m(self)\u001b[0m\n\u001b[1;32m   1191\u001b[0m     \u001b[38;5;28;01mreturn\u001b[39;00m \u001b[38;5;28mself\u001b[39m\u001b[38;5;241m.\u001b[39mnext_v1()\n\u001b[1;32m   1192\u001b[0m \u001b[38;5;28;01melse\u001b[39;00m:\n\u001b[0;32m-> 1193\u001b[0m     \u001b[38;5;28;01mreturn\u001b[39;00m \u001b[38;5;28;43mself\u001b[39;49m\u001b[38;5;241;43m.\u001b[39;49m\u001b[43mnext_v2\u001b[49m\u001b[43m(\u001b[49m\u001b[43m)\u001b[49m\n",
      "File \u001b[0;32m/opt/homebrew/lib/python3.11/site-packages/kafka/consumer/group.py:1201\u001b[0m, in \u001b[0;36mKafkaConsumer.next_v2\u001b[0;34m(self)\u001b[0m\n\u001b[1;32m   1199\u001b[0m     \u001b[38;5;28mself\u001b[39m\u001b[38;5;241m.\u001b[39m_iterator \u001b[38;5;241m=\u001b[39m \u001b[38;5;28mself\u001b[39m\u001b[38;5;241m.\u001b[39m_message_generator_v2()\n\u001b[1;32m   1200\u001b[0m \u001b[38;5;28;01mtry\u001b[39;00m:\n\u001b[0;32m-> 1201\u001b[0m     \u001b[38;5;28;01mreturn\u001b[39;00m \u001b[38;5;28mnext\u001b[39m(\u001b[38;5;28mself\u001b[39m\u001b[38;5;241m.\u001b[39m_iterator)\n\u001b[1;32m   1202\u001b[0m \u001b[38;5;28;01mexcept\u001b[39;00m \u001b[38;5;167;01mStopIteration\u001b[39;00m:\n\u001b[1;32m   1203\u001b[0m     \u001b[38;5;28mself\u001b[39m\u001b[38;5;241m.\u001b[39m_iterator \u001b[38;5;241m=\u001b[39m \u001b[38;5;28;01mNone\u001b[39;00m\n",
      "File \u001b[0;32m/opt/homebrew/lib/python3.11/site-packages/kafka/consumer/group.py:1116\u001b[0m, in \u001b[0;36mKafkaConsumer._message_generator_v2\u001b[0;34m(self)\u001b[0m\n\u001b[1;32m   1114\u001b[0m \u001b[38;5;28;01mdef\u001b[39;00m \u001b[38;5;21m_message_generator_v2\u001b[39m(\u001b[38;5;28mself\u001b[39m):\n\u001b[1;32m   1115\u001b[0m     timeout_ms \u001b[38;5;241m=\u001b[39m \u001b[38;5;241m1000\u001b[39m \u001b[38;5;241m*\u001b[39m (\u001b[38;5;28mself\u001b[39m\u001b[38;5;241m.\u001b[39m_consumer_timeout \u001b[38;5;241m-\u001b[39m time\u001b[38;5;241m.\u001b[39mtime())\n\u001b[0;32m-> 1116\u001b[0m     record_map \u001b[38;5;241m=\u001b[39m \u001b[38;5;28;43mself\u001b[39;49m\u001b[38;5;241;43m.\u001b[39;49m\u001b[43mpoll\u001b[49m\u001b[43m(\u001b[49m\u001b[43mtimeout_ms\u001b[49m\u001b[38;5;241;43m=\u001b[39;49m\u001b[43mtimeout_ms\u001b[49m\u001b[43m,\u001b[49m\u001b[43m \u001b[49m\u001b[43mupdate_offsets\u001b[49m\u001b[38;5;241;43m=\u001b[39;49m\u001b[38;5;28;43;01mFalse\u001b[39;49;00m\u001b[43m)\u001b[49m\n\u001b[1;32m   1117\u001b[0m     \u001b[38;5;28;01mfor\u001b[39;00m tp, records \u001b[38;5;129;01min\u001b[39;00m six\u001b[38;5;241m.\u001b[39miteritems(record_map):\n\u001b[1;32m   1118\u001b[0m         \u001b[38;5;66;03m# Generators are stateful, and it is possible that the tp / records\u001b[39;00m\n\u001b[1;32m   1119\u001b[0m         \u001b[38;5;66;03m# here may become stale during iteration -- i.e., we seek to a\u001b[39;00m\n\u001b[1;32m   1120\u001b[0m         \u001b[38;5;66;03m# different offset, pause consumption, or lose assignment.\u001b[39;00m\n\u001b[1;32m   1121\u001b[0m         \u001b[38;5;28;01mfor\u001b[39;00m record \u001b[38;5;129;01min\u001b[39;00m records:\n\u001b[1;32m   1122\u001b[0m             \u001b[38;5;66;03m# is_fetchable(tp) should handle assignment changes and offset\u001b[39;00m\n\u001b[1;32m   1123\u001b[0m             \u001b[38;5;66;03m# resets; for all other changes (e.g., seeks) we'll rely on the\u001b[39;00m\n\u001b[1;32m   1124\u001b[0m             \u001b[38;5;66;03m# outer function destroying the existing iterator/generator\u001b[39;00m\n\u001b[1;32m   1125\u001b[0m             \u001b[38;5;66;03m# via self._iterator = None\u001b[39;00m\n",
      "File \u001b[0;32m/opt/homebrew/lib/python3.11/site-packages/kafka/consumer/group.py:655\u001b[0m, in \u001b[0;36mKafkaConsumer.poll\u001b[0;34m(self, timeout_ms, max_records, update_offsets)\u001b[0m\n\u001b[1;32m    653\u001b[0m remaining \u001b[38;5;241m=\u001b[39m timeout_ms\n\u001b[1;32m    654\u001b[0m \u001b[38;5;28;01mwhile\u001b[39;00m \u001b[38;5;28;01mTrue\u001b[39;00m:\n\u001b[0;32m--> 655\u001b[0m     records \u001b[38;5;241m=\u001b[39m \u001b[38;5;28;43mself\u001b[39;49m\u001b[38;5;241;43m.\u001b[39;49m\u001b[43m_poll_once\u001b[49m\u001b[43m(\u001b[49m\u001b[43mremaining\u001b[49m\u001b[43m,\u001b[49m\u001b[43m \u001b[49m\u001b[43mmax_records\u001b[49m\u001b[43m,\u001b[49m\u001b[43m \u001b[49m\u001b[43mupdate_offsets\u001b[49m\u001b[38;5;241;43m=\u001b[39;49m\u001b[43mupdate_offsets\u001b[49m\u001b[43m)\u001b[49m\n\u001b[1;32m    656\u001b[0m     \u001b[38;5;28;01mif\u001b[39;00m records:\n\u001b[1;32m    657\u001b[0m         \u001b[38;5;28;01mreturn\u001b[39;00m records\n",
      "File \u001b[0;32m/opt/homebrew/lib/python3.11/site-packages/kafka/consumer/group.py:702\u001b[0m, in \u001b[0;36mKafkaConsumer._poll_once\u001b[0;34m(self, timeout_ms, max_records, update_offsets)\u001b[0m\n\u001b[1;32m    699\u001b[0m     \u001b[38;5;28mself\u001b[39m\u001b[38;5;241m.\u001b[39m_client\u001b[38;5;241m.\u001b[39mpoll(timeout_ms\u001b[38;5;241m=\u001b[39m\u001b[38;5;241m0\u001b[39m)\n\u001b[1;32m    701\u001b[0m timeout_ms \u001b[38;5;241m=\u001b[39m \u001b[38;5;28mmin\u001b[39m(timeout_ms, \u001b[38;5;28mself\u001b[39m\u001b[38;5;241m.\u001b[39m_coordinator\u001b[38;5;241m.\u001b[39mtime_to_next_poll() \u001b[38;5;241m*\u001b[39m \u001b[38;5;241m1000\u001b[39m)\n\u001b[0;32m--> 702\u001b[0m \u001b[38;5;28;43mself\u001b[39;49m\u001b[38;5;241;43m.\u001b[39;49m\u001b[43m_client\u001b[49m\u001b[38;5;241;43m.\u001b[39;49m\u001b[43mpoll\u001b[49m\u001b[43m(\u001b[49m\u001b[43mtimeout_ms\u001b[49m\u001b[38;5;241;43m=\u001b[39;49m\u001b[43mtimeout_ms\u001b[49m\u001b[43m)\u001b[49m\n\u001b[1;32m    703\u001b[0m \u001b[38;5;66;03m# after the long poll, we should check whether the group needs to rebalance\u001b[39;00m\n\u001b[1;32m    704\u001b[0m \u001b[38;5;66;03m# prior to returning data so that the group can stabilize faster\u001b[39;00m\n\u001b[1;32m    705\u001b[0m \u001b[38;5;28;01mif\u001b[39;00m \u001b[38;5;28mself\u001b[39m\u001b[38;5;241m.\u001b[39m_coordinator\u001b[38;5;241m.\u001b[39mneed_rejoin():\n",
      "File \u001b[0;32m/opt/homebrew/lib/python3.11/site-packages/kafka/client_async.py:602\u001b[0m, in \u001b[0;36mKafkaClient.poll\u001b[0;34m(self, timeout_ms, future)\u001b[0m\n\u001b[1;32m    599\u001b[0m             timeout \u001b[38;5;241m=\u001b[39m \u001b[38;5;28mmin\u001b[39m(timeout, \u001b[38;5;28mself\u001b[39m\u001b[38;5;241m.\u001b[39mconfig[\u001b[38;5;124m'\u001b[39m\u001b[38;5;124mretry_backoff_ms\u001b[39m\u001b[38;5;124m'\u001b[39m])\n\u001b[1;32m    600\u001b[0m         timeout \u001b[38;5;241m=\u001b[39m \u001b[38;5;28mmax\u001b[39m(\u001b[38;5;241m0\u001b[39m, timeout)  \u001b[38;5;66;03m# avoid negative timeouts\u001b[39;00m\n\u001b[0;32m--> 602\u001b[0m     \u001b[38;5;28;43mself\u001b[39;49m\u001b[38;5;241;43m.\u001b[39;49m\u001b[43m_poll\u001b[49m\u001b[43m(\u001b[49m\u001b[43mtimeout\u001b[49m\u001b[43m \u001b[49m\u001b[38;5;241;43m/\u001b[39;49m\u001b[43m \u001b[49m\u001b[38;5;241;43m1000\u001b[39;49m\u001b[43m)\u001b[49m\n\u001b[1;32m    604\u001b[0m \u001b[38;5;66;03m# called without the lock to avoid deadlock potential\u001b[39;00m\n\u001b[1;32m    605\u001b[0m \u001b[38;5;66;03m# if handlers need to acquire locks\u001b[39;00m\n\u001b[1;32m    606\u001b[0m responses\u001b[38;5;241m.\u001b[39mextend(\u001b[38;5;28mself\u001b[39m\u001b[38;5;241m.\u001b[39m_fire_pending_completed_requests())\n",
      "File \u001b[0;32m/opt/homebrew/lib/python3.11/site-packages/kafka/client_async.py:634\u001b[0m, in \u001b[0;36mKafkaClient._poll\u001b[0;34m(self, timeout)\u001b[0m\n\u001b[1;32m    631\u001b[0m \u001b[38;5;28mself\u001b[39m\u001b[38;5;241m.\u001b[39m_register_send_sockets()\n\u001b[1;32m    633\u001b[0m start_select \u001b[38;5;241m=\u001b[39m time\u001b[38;5;241m.\u001b[39mtime()\n\u001b[0;32m--> 634\u001b[0m ready \u001b[38;5;241m=\u001b[39m \u001b[38;5;28;43mself\u001b[39;49m\u001b[38;5;241;43m.\u001b[39;49m\u001b[43m_selector\u001b[49m\u001b[38;5;241;43m.\u001b[39;49m\u001b[43mselect\u001b[49m\u001b[43m(\u001b[49m\u001b[43mtimeout\u001b[49m\u001b[43m)\u001b[49m\n\u001b[1;32m    635\u001b[0m end_select \u001b[38;5;241m=\u001b[39m time\u001b[38;5;241m.\u001b[39mtime()\n\u001b[1;32m    636\u001b[0m \u001b[38;5;28;01mif\u001b[39;00m \u001b[38;5;28mself\u001b[39m\u001b[38;5;241m.\u001b[39m_sensors:\n",
      "File \u001b[0;32m/opt/homebrew/Cellar/python@3.11/3.11.9/Frameworks/Python.framework/Versions/3.11/lib/python3.11/selectors.py:566\u001b[0m, in \u001b[0;36mKqueueSelector.select\u001b[0;34m(self, timeout)\u001b[0m\n\u001b[1;32m    564\u001b[0m ready \u001b[38;5;241m=\u001b[39m []\n\u001b[1;32m    565\u001b[0m \u001b[38;5;28;01mtry\u001b[39;00m:\n\u001b[0;32m--> 566\u001b[0m     kev_list \u001b[38;5;241m=\u001b[39m \u001b[38;5;28mself\u001b[39m\u001b[38;5;241m.\u001b[39m_selector\u001b[38;5;241m.\u001b[39mcontrol(\u001b[38;5;28;01mNone\u001b[39;00m, max_ev, timeout)\n\u001b[1;32m    567\u001b[0m \u001b[38;5;28;01mexcept\u001b[39;00m \u001b[38;5;167;01mInterruptedError\u001b[39;00m:\n\u001b[1;32m    568\u001b[0m     \u001b[38;5;28;01mreturn\u001b[39;00m ready\n",
      "\u001b[0;31mKeyboardInterrupt\u001b[0m: "
     ]
    }
   ],
   "source": [
    "from kafka_component.tweet_consumer import TweetConsumer\n",
    "\n",
    "consumer = TweetConsumer(topic_name='stock')\n",
    "consumer.consume()"
   ]
  },
  {
   "cell_type": "code",
   "execution_count": null,
   "metadata": {},
   "outputs": [],
   "source": []
  }
 ],
 "metadata": {
  "language_info": {
   "name": "python"
  }
 },
 "nbformat": 4,
 "nbformat_minor": 2
}
