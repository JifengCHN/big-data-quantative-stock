{
 "cells": [
  {
   "cell_type": "code",
   "execution_count": null,
   "metadata": {},
   "outputs": [],
   "source": [
    "from pymongo import MongoClient\n",
    "from kafka import KafkaProducer\n",
    "from loguru import logger\n",
    "import json\n",
    "import time"
   ]
  },
  {
   "cell_type": "code",
   "execution_count": null,
   "metadata": {},
   "outputs": [],
   "source": [
    "producer = KafkaProducer(bootstrap_servers='localhost:9092')"
   ]
  },
  {
   "cell_type": "code",
   "execution_count": null,
   "metadata": {},
   "outputs": [],
   "source": [
    "search_term = 'ChatGPT'\n",
    "topic_name = 'stock'"
   ]
  },
  {
   "cell_type": "code",
   "execution_count": 1,
   "metadata": {},
   "outputs": [],
   "source": [
    "from data_mocker.mocker import Mocker\n",
    "import json"
   ]
  },
  {
   "cell_type": "code",
   "execution_count": 4,
   "metadata": {},
   "outputs": [
    {
     "name": "stdout",
     "output_type": "stream",
     "text": [
      "Tweets have been saved to 'tweets_output.json'\n"
     ]
    }
   ],
   "source": [
    "mocker = Mocker()\n",
    "search_term = \"平安银行\"\n",
    "tweets_json = mocker.generate_tweets(search_term, n=5)\n",
    "\n",
    "# Save to file\n",
    "with open(\"tweets_output.json\", \"w\", encoding=\"utf-8\") as f:\n",
    "    json.dump(tweets_json, f, ensure_ascii=False, indent=4)\n",
    "\n",
    "print(\"Tweets have been saved to 'tweets_output.json'\")"
   ]
  },
  {
   "cell_type": "code",
   "execution_count": null,
   "metadata": {},
   "outputs": [],
   "source": []
  }
 ],
 "metadata": {
  "language_info": {
   "name": "python"
  }
 },
 "nbformat": 4,
 "nbformat_minor": 2
}
